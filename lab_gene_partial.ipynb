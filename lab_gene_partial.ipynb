{
 "cells": [
  {
   "cell_type": "markdown",
   "metadata": {},
   "source": [
    "# Lab:  Logistic Regression for Gene Expression Data\n",
    "\n",
    "In this lab, we use logistic regression to predict biological characteristics (\"phenotypes\") from gene expression data.  In addition to the concepts in [breast cancer demo](./breast_cancer.ipynb), you will learn to:\n",
    "* Handle missing data\n",
    "* Perform multi-class logistic classification\n",
    "* Create a confusion matrix\n",
    "* Use L1-regularization for improved estimation in the case of sparse weights (Grad students only)\n",
    "\n",
    "## Background\n",
    "\n",
    "Genes are the basic unit in the DNA and encode blueprints for proteins.  When proteins are synthesized from a gene, the gene is said to \"express\".  Micro-arrays are devices that measure the expression levels of large numbers of genes in parallel.  By finding correlations between expression levels and phenotypes, scientists can identify possible genetic markers for biological characteristics.\n",
    "\n",
    "The data in this lab comes from:\n",
    "\n",
    "https://archive.ics.uci.edu/ml/datasets/Mice+Protein+Expression\n",
    "\n",
    "In this data, mice were characterized by three properties:\n",
    "* Whether they had down's syndrome (trisomy) or not\n",
    "* Whether they were stimulated to learn or not\n",
    "* Whether they had a drug memantine or a saline control solution.\n",
    "\n",
    "With these three choices, there are 8 possible classes for each mouse.  For each mouse, the expression levels were measured across 77 genes.  We will see if the characteristics can be predicted from the gene expression levels.  This classification could reveal which genes are potentially involved in Down's syndrome and if drugs and learning have any noticeable effects.\n"
   ]
  },
  {
   "cell_type": "markdown",
   "metadata": {},
   "source": [
    "## Load the Data\n",
    "\n",
    "We begin by loading the standard modules."
   ]
  },
  {
   "cell_type": "code",
   "execution_count": 33,
   "metadata": {
    "collapsed": true
   },
   "outputs": [],
   "source": [
    "import pandas as pd\n",
    "import numpy as np\n",
    "import matplotlib\n",
    "import matplotlib.pyplot as plt\n",
    "%matplotlib inline\n",
    "from sklearn import linear_model, preprocessing"
   ]
  },
  {
   "cell_type": "markdown",
   "metadata": {},
   "source": [
    "Use the `pd.read_excel` command to read the data from \n",
    "\n",
    "https://archive.ics.uci.edu/ml/machine-learning-databases/00342/Data_Cortex_Nuclear.xls\n",
    "\n",
    "into a dataframe `df`.  Use the `index_col` option to specify that column 0 is the index.  Use the `df.head()` to print the first few rows."
   ]
  },
  {
   "cell_type": "code",
   "execution_count": 34,
   "metadata": {
    "collapsed": false
   },
   "outputs": [
    {
     "name": "stdout",
     "output_type": "stream",
     "text": [
      "         DYRK1A_N   ITSN1_N    BDNF_N     NR1_N    NR2A_N    pAKT_N   pBRAF_N  \\\n",
      "MouseID                                                                         \n",
      "309_1    0.503644  0.747193  0.430175  2.816329  5.990152  0.218830  0.177565   \n",
      "309_2    0.514617  0.689064  0.411770  2.789514  5.685038  0.211636  0.172817   \n",
      "309_3    0.509183  0.730247  0.418309  2.687201  5.622059  0.209011  0.175722   \n",
      "309_4    0.442107  0.617076  0.358626  2.466947  4.979503  0.222886  0.176463   \n",
      "309_5    0.434940  0.617430  0.358802  2.365785  4.718679  0.213106  0.173627   \n",
      "\n",
      "         pCAMKII_N   pCREB_N    pELK_N   ...     pCFOS_N     SYP_N  H3AcK18_N  \\\n",
      "MouseID                                  ...                                    \n",
      "309_1     2.373744  0.232224  1.750936   ...    0.108336  0.427099   0.114783   \n",
      "309_2     2.292150  0.226972  1.596377   ...    0.104315  0.441581   0.111974   \n",
      "309_3     2.283337  0.230247  1.561316   ...    0.106219  0.435777   0.111883   \n",
      "309_4     2.152301  0.207004  1.595086   ...    0.111262  0.391691   0.130405   \n",
      "309_5     2.134014  0.192158  1.504230   ...    0.110694  0.434154   0.118481   \n",
      "\n",
      "           EGR1_N  H3MeK4_N    CaNA_N  Genotype  Treatment  Behavior   class  \n",
      "MouseID                                                                       \n",
      "309_1    0.131790  0.128186  1.675652   Control  Memantine       C/S  c-CS-m  \n",
      "309_2    0.135103  0.131119  1.743610   Control  Memantine       C/S  c-CS-m  \n",
      "309_3    0.133362  0.127431  1.926427   Control  Memantine       C/S  c-CS-m  \n",
      "309_4    0.147444  0.146901  1.700563   Control  Memantine       C/S  c-CS-m  \n",
      "309_5    0.140314  0.148380  1.839730   Control  Memantine       C/S  c-CS-m  \n",
      "\n",
      "[5 rows x 81 columns]\n"
     ]
    }
   ],
   "source": [
    "# TODO\n",
    "# df = ...\n",
    "df=pd.read_excel('Data_Cortex_Nuclear.xls',index_col=0)\n",
    "print(df.head(5))"
   ]
  },
  {
   "cell_type": "markdown",
   "metadata": {},
   "source": [
    "This data has missing values.  The site:\n",
    "\n",
    "http://pandas.pydata.org/pandas-docs/stable/missing_data.html\n",
    "\n",
    "has an excellent summary of methods to deal with missing values.  Following the techniques there, create a new data frame `df1` where the missing values in each column are filled with the mean values from the non-missing values."
   ]
  },
  {
   "cell_type": "code",
   "execution_count": 35,
   "metadata": {
    "collapsed": false
   },
   "outputs": [
    {
     "name": "stdout",
     "output_type": "stream",
     "text": [
      "          DYRK1A_N   ITSN1_N    BDNF_N     NR1_N    NR2A_N    pAKT_N  \\\n",
      "MouseID                                                                \n",
      "309_1     0.503644  0.747193  0.430175  2.816329  5.990152  0.218830   \n",
      "309_2     0.514617  0.689064  0.411770  2.789514  5.685038  0.211636   \n",
      "309_3     0.509183  0.730247  0.418309  2.687201  5.622059  0.209011   \n",
      "309_4     0.442107  0.617076  0.358626  2.466947  4.979503  0.222886   \n",
      "309_5     0.434940  0.617430  0.358802  2.365785  4.718679  0.213106   \n",
      "309_6     0.447506  0.628176  0.367388  2.385939  4.807635  0.218578   \n",
      "309_7     0.428033  0.573696  0.342709  2.334224  4.473130  0.225173   \n",
      "309_8     0.416923  0.564036  0.327703  2.260135  4.268735  0.214834   \n",
      "309_9     0.386311  0.538428  0.317720  2.125725  4.063950  0.207222   \n",
      "309_10    0.380827  0.499294  0.362462  2.096266  3.598587  0.227649   \n",
      "309_11    0.366511  0.513278  0.327792  2.072572  3.661058  0.229475   \n",
      "309_12    0.364154  0.499411  0.355124  2.006871  3.466627  0.216333   \n",
      "309_13    0.364873  0.482102  0.312539  1.946201  3.349592  0.230898   \n",
      "309_14    0.381911  0.485914  0.310951  1.958907  3.349290  0.225800   \n",
      "309_15    0.374410  0.462313  0.344629  1.861162  3.287123  0.221811   \n",
      "311_1     0.743118  0.862653  0.377742  2.735757  6.067570  0.219049   \n",
      "311_2     0.711480  0.807054  0.351591  2.546888  5.595574  0.199170   \n",
      "311_3     0.704633  0.802537  0.350110  2.467733  5.548400  0.205323   \n",
      "311_4     0.677359  0.770235  0.356397  2.563223  4.975196  0.228087   \n",
      "311_5     0.591572  0.678768  0.312480  2.164182  4.313938  0.195786   \n",
      "311_6     0.618517  0.716672  0.319701  2.285938  4.571180  0.206927   \n",
      "311_7     0.702608  0.699581  0.387750  2.437587  4.449231  0.258500   \n",
      "311_8     0.598869  0.690271  0.349774  2.308371  4.229412  0.221493   \n",
      "311_9     0.561867  0.641892  0.308488  2.157728  4.020693  0.216427   \n",
      "311_10    0.550970  0.561356  0.320853  2.197868  3.558896  0.237770   \n",
      "311_11    0.538413  0.701865  0.384445  2.482137  4.109706  0.288018   \n",
      "311_12    0.521127  0.583045  0.304279  2.053415  3.381345  0.251661   \n",
      "311_13    0.488372  0.540086  0.291310  1.913403  2.873623  0.215422   \n",
      "311_14    0.514855  0.564791  0.316056  1.957016  2.978824  0.250632   \n",
      "311_15    0.485100  0.556375  0.287250  1.892166  2.847005  0.223041   \n",
      "...            ...       ...       ...       ...       ...       ...   \n",
      "J1291_1   0.277107  0.514868  0.320348  2.365797  3.371250  0.234775   \n",
      "J1291_2   0.287189  0.523557  0.319746  2.425490  3.589465  0.244044   \n",
      "J1291_3   0.289370  0.526378  0.326299  2.383936  3.457267  0.237932   \n",
      "J1291_4   0.256109  0.455459  0.303124  2.213269  3.148469  0.236932   \n",
      "J1291_5   0.268433  0.447237  0.300984  2.157154  3.037699  0.235428   \n",
      "J1291_6   0.273664  0.476930  0.329317  2.222293  3.265261  0.238307   \n",
      "J1291_7   0.237047  0.413551  0.296071  2.140444  2.790283  0.241412   \n",
      "J1291_8   0.293881  0.400956  0.279350  2.124283  3.002868  0.247036   \n",
      "J1291_9   0.237272  0.408069  0.283381  2.131220  3.005764  0.247839   \n",
      "J1291_10  0.207143  0.373810  0.276429  2.082619  2.733571  0.295476   \n",
      "J1291_11  0.249584  0.377583  0.275944  2.052244  2.655189  0.257659   \n",
      "J1291_12  0.204136  0.401779  0.274345  2.081991  2.828565  0.268574   \n",
      "J1291_13  0.204065  0.328405  0.253432  1.889916  2.403379  0.271119   \n",
      "J1291_14  0.163325  0.332454  0.255145  1.901847  2.445910  0.539050   \n",
      "J1291_15  0.175857  0.347874  0.282579  2.007407  2.587106  0.261454   \n",
      "J3295_1   0.359146  0.634173  0.344688  2.715334  4.208981  0.223658   \n",
      "J3295_2   0.357104  0.632568  0.354467  2.694429  4.292385  0.226459   \n",
      "J3295_3   0.374019  0.661735  0.362811  2.791975  4.477023  0.222932   \n",
      "J3295_4   0.356012  0.585111  0.313620  2.545074  3.794452  0.221117   \n",
      "J3295_5   0.329829  0.573062  0.334691  2.548357  3.808279  0.229041   \n",
      "J3295_6   0.355136  0.588026  0.314915  2.544507  3.981010  0.224713   \n",
      "J3295_7   0.318448  0.509701  0.290576  2.314752  3.041115  0.229135   \n",
      "J3295_8   0.333438  0.514353  0.316404  2.317035  3.451893  0.235962   \n",
      "J3295_9   0.280946  0.528821  0.299645  2.290991  3.243548  0.246021   \n",
      "J3295_10  0.230977  0.423589  0.254439  1.868897  2.447210  0.209734   \n",
      "J3295_11  0.254860  0.463591  0.254860  2.092082  2.600035  0.211736   \n",
      "J3295_12  0.272198  0.474163  0.251638  2.161390  2.801492  0.251274   \n",
      "J3295_13  0.228700  0.395179  0.234118  1.733184  2.220852  0.220665   \n",
      "J3295_14  0.221242  0.412894  0.243974  1.876347  2.384088  0.208897   \n",
      "J3295_15  0.302626  0.461059  0.256564  2.092790  2.594348  0.251001   \n",
      "\n",
      "           pBRAF_N  pCAMKII_N   pCREB_N    pELK_N   ...     pCFOS_N     SYP_N  \\\n",
      "MouseID                                             ...                         \n",
      "309_1     0.177565   2.373744  0.232224  1.750936   ...    0.108336  0.427099   \n",
      "309_2     0.172817   2.292150  0.226972  1.596377   ...    0.104315  0.441581   \n",
      "309_3     0.175722   2.283337  0.230247  1.561316   ...    0.106219  0.435777   \n",
      "309_4     0.176463   2.152301  0.207004  1.595086   ...    0.111262  0.391691   \n",
      "309_5     0.173627   2.134014  0.192158  1.504230   ...    0.110694  0.434154   \n",
      "309_6     0.176233   2.141282  0.195188  1.442398   ...    0.109446  0.439833   \n",
      "309_7     0.184004   2.012414  0.195789  1.612036   ...    0.111483  0.406293   \n",
      "309_8     0.179668   2.007985  0.189803  1.424601   ...    0.113080  0.382532   \n",
      "309_9     0.167778   1.861514  0.180684  1.261891   ...    0.105490  0.435687   \n",
      "309_10    0.188093   1.717861  0.188093  1.414329   ...    0.116906  0.414793   \n",
      "309_11    0.193797   1.724508  0.185283  1.318670   ...    0.131254  0.385424   \n",
      "309_12    0.204358   1.672556  0.190224  1.166078   ...    0.125266  0.442394   \n",
      "309_13    0.188821   1.508687  0.171028  1.353360   ...    0.126934  0.440331   \n",
      "309_14    0.188519   1.509002  0.179835  1.219657   ...    0.125018  0.422163   \n",
      "309_15    0.185459   1.444239  0.176422  1.123023   ...    0.125788  0.446562   \n",
      "311_1     0.185338   2.277492  0.194465  2.379508   ...    0.131053  0.440142   \n",
      "311_2     0.165975   2.118811  0.174689  2.050484   ...    0.131053  0.454352   \n",
      "311_3     0.165058   2.107281  0.171401  1.938913   ...    0.131053  0.454509   \n",
      "311_4     0.186498   2.259045  0.190974  2.167848   ...    0.131053  0.458548   \n",
      "311_5     0.161102   1.975689  0.161912  1.768720   ...    0.131053  0.425027   \n",
      "311_6     0.171598   2.127045  0.174556  1.767316   ...    0.131053  0.439456   \n",
      "311_7     0.197019   2.091057  0.182115  2.171402   ...    0.131053  0.407346   \n",
      "311_8     0.187104   2.045475  0.176697  1.922172   ...    0.131053  0.471517   \n",
      "311_9     0.173775   1.940878  0.168074  1.728041   ...    0.131053  0.444272   \n",
      "311_10    0.194589   1.783821  0.178191  1.831375   ...    0.131053  0.430309   \n",
      "311_11    0.223206   2.082833  0.202023  1.965223   ...    0.131053  0.406250   \n",
      "311_12    0.189476   1.800957  0.178049  1.517672   ...    0.131053  0.389358   \n",
      "311_13    0.210526   1.414933  0.162485  1.689412   ...    0.131053  0.411246   \n",
      "311_14    0.175095   1.487358  0.162137  1.678571   ...    0.131053  0.408219   \n",
      "311_15    0.177573   1.462366  0.169892  1.537942   ...    0.131053  0.361061   \n",
      "...            ...        ...       ...       ...   ...         ...       ...   \n",
      "J1291_1   0.187378   3.709518  0.245033  1.067524   ...    0.131053  0.315972   \n",
      "J1291_2   0.189254   3.807835  0.250662  1.075172   ...    0.131053  0.305273   \n",
      "J1291_3   0.187549   3.761936  0.252968  1.103271   ...    0.131053  0.315767   \n",
      "J1291_4   0.185895   3.479586  0.229044  1.012218   ...    0.131053  0.332148   \n",
      "J1291_5   0.178350   3.346101  0.232248  0.989856   ...    0.131053  0.325863   \n",
      "J1291_6   0.183288   3.551609  0.245759  1.036785   ...    0.131053  0.316878   \n",
      "J1291_7   0.183336   3.255456  0.227747  1.026571   ...    0.131053  0.322274   \n",
      "J1291_8   0.185851   3.252964  0.238241  1.015870   ...    0.131053  0.328073   \n",
      "J1291_9   0.172719   3.278770  0.236888  1.017291   ...    0.131053  0.319028   \n",
      "J1291_10  0.192619   3.015238  0.274524  1.026190   ...    0.131053  0.337549   \n",
      "J1291_11  0.191166   2.966991  0.243173  1.022560   ...    0.131053  0.338489   \n",
      "J1291_12  0.201250   3.035105  0.250541  1.040635   ...    0.131053  0.337342   \n",
      "J1291_13  0.195354   2.675554  0.274551  0.967265   ...    0.131053  0.345243   \n",
      "J1291_14  0.176781   2.731398  0.243536  1.005013   ...    0.131053  0.398036   \n",
      "J1291_15  0.182716   2.868313  0.247462  1.056790   ...    0.131053  0.372298   \n",
      "J3295_1   0.174699   3.683352  0.259693  1.273494   ...    0.106507  0.398098   \n",
      "J3295_2   0.172618   3.590594  0.251621  1.300407   ...    0.111031  0.402878   \n",
      "J3295_3   0.177651   3.748599  0.261488  1.358888   ...    0.103273  0.414168   \n",
      "J3295_4   0.176501   3.232369  0.231192  1.156483   ...    0.112550  0.428230   \n",
      "J3295_5   0.181603   3.299343  0.228909  1.193035   ...    0.106726  0.397435   \n",
      "J3295_6   0.178030   3.326520  0.241857  1.236318   ...    0.107092  0.394801   \n",
      "J3295_7   0.175855   2.881429  0.206036  1.088389   ...    0.127265  0.405127   \n",
      "J3295_8   0.201262   2.955047  0.215457  1.118612   ...    0.110314  0.395405   \n",
      "J3295_9   0.195797   2.946067  0.221759  1.141400   ...    0.105369  0.408533   \n",
      "J3295_10  0.150761   2.184052  0.187381  0.949746   ...    0.175592  0.389950   \n",
      "J3295_11  0.171262   2.483740  0.207317  1.057971   ...    0.183324  0.374088   \n",
      "J3295_12  0.182496   2.512737  0.216339  1.081150   ...    0.175674  0.375259   \n",
      "J3295_13  0.161435   1.989723  0.185164  0.884342   ...    0.158296  0.422121   \n",
      "J3295_14  0.173623   2.086028  0.192044  0.922595   ...    0.196296  0.397676   \n",
      "J3295_15  0.191811   2.361816  0.223632  1.064085   ...    0.187556  0.420347   \n",
      "\n",
      "          H3AcK18_N    EGR1_N  H3MeK4_N    CaNA_N  Genotype  Treatment  \\\n",
      "MouseID                                                                  \n",
      "309_1      0.114783  0.131790  0.128186  1.675652   Control  Memantine   \n",
      "309_2      0.111974  0.135103  0.131119  1.743610   Control  Memantine   \n",
      "309_3      0.111883  0.133362  0.127431  1.926427   Control  Memantine   \n",
      "309_4      0.130405  0.147444  0.146901  1.700563   Control  Memantine   \n",
      "309_5      0.118481  0.140314  0.148380  1.839730   Control  Memantine   \n",
      "309_6      0.116657  0.140766  0.142180  1.816389   Control  Memantine   \n",
      "309_7      0.137229  0.156682  0.157499  1.528484   Control  Memantine   \n",
      "309_8      0.123376  0.155612  0.159409  1.652658   Control  Memantine   \n",
      "309_9      0.125173  0.152711  0.158235  1.834599   Control  Memantine   \n",
      "309_10     0.146133  0.188849  0.192334  1.516862   Control  Memantine   \n",
      "309_11     0.151816  0.184601  0.193055  1.613548   Control  Memantine   \n",
      "309_12     0.149988  0.191862  0.195529  1.722971   Control  Memantine   \n",
      "309_13     0.168370  0.236878  0.214088  1.426934   Control  Memantine   \n",
      "309_14     0.178737  0.215581  0.225285  1.500070   Control  Memantine   \n",
      "309_15     0.160602  0.227937  0.224212  1.613897   Control  Memantine   \n",
      "311_1      0.129606  0.165288  0.163995  1.297220   Control  Memantine   \n",
      "311_2      0.117010  0.162857  0.158206  1.363189   Control  Memantine   \n",
      "311_3      0.111089  0.157731  0.158543  1.404481   Control  Memantine   \n",
      "311_4      0.156690  0.180153  0.195739  1.170038   Control  Memantine   \n",
      "311_5      0.126896  0.172995  0.169977  1.272986   Control  Memantine   \n",
      "311_6      0.117060  0.171352  0.159940  1.279936   Control  Memantine   \n",
      "311_7      0.148026  0.215089  0.239907  1.178248   Control  Memantine   \n",
      "311_8      0.147208  0.234179  0.197067  1.219966   Control  Memantine   \n",
      "311_9      0.134454  0.189850  0.183547  1.246130   Control  Memantine   \n",
      "311_10     0.170812  0.228614  0.233124  1.077480   Control  Memantine   \n",
      "311_11     0.167849  0.216976  0.206741  1.144378   Control  Memantine   \n",
      "311_12     0.148226  0.269003  0.243806  1.238457   Control  Memantine   \n",
      "311_13     0.155773  0.222555  0.267759  0.981414   Control  Memantine   \n",
      "311_14     0.148705  0.215222  0.217621  0.994404   Control  Memantine   \n",
      "311_15     0.143278  0.218929  0.208286  1.030948   Control  Memantine   \n",
      "...             ...       ...       ...       ...       ...        ...   \n",
      "J1291_1    0.292285  0.134589  0.234915  1.344585    Ts65Dn     Saline   \n",
      "J1291_2    0.287167  0.127822  0.220443  1.372286    Ts65Dn     Saline   \n",
      "J1291_3    0.283509  0.126930  0.221095  1.314824    Ts65Dn     Saline   \n",
      "J1291_4    0.316103  0.154785  0.234147  1.429285    Ts65Dn     Saline   \n",
      "J1291_5    0.318043  0.139615  0.231451  1.415602    Ts65Dn     Saline   \n",
      "J1291_6    0.300141  0.136436  0.233004  1.332487    Ts65Dn     Saline   \n",
      "J1291_7    0.287124  0.162432  0.249507  1.383078    Ts65Dn     Saline   \n",
      "J1291_8    0.308935  0.161178  0.266186  1.362247    Ts65Dn     Saline   \n",
      "J1291_9    0.272244  0.154014  0.224613  1.336074    Ts65Dn     Saline   \n",
      "J1291_10   0.303502  0.170396  0.285182  1.375973    Ts65Dn     Saline   \n",
      "J1291_11   0.289617  0.169821  0.270857  1.398058    Ts65Dn     Saline   \n",
      "J1291_12   0.286516  0.190156  0.246914  1.304634    Ts65Dn     Saline   \n",
      "J1291_13   0.297069  0.182858  0.278202  1.308912    Ts65Dn     Saline   \n",
      "J1291_14   0.289016  0.201268  0.280630  1.362446    Ts65Dn     Saline   \n",
      "J1291_15   0.277622  0.188551  0.278823  1.297038    Ts65Dn     Saline   \n",
      "J3295_1    0.293833  0.158488  0.241064  1.360293    Ts65Dn     Saline   \n",
      "J3295_2    0.293172  0.152697  0.228565  1.375361    Ts65Dn     Saline   \n",
      "J3295_3    0.286047  0.161570  0.224226  1.257854    Ts65Dn     Saline   \n",
      "J3295_4    0.295791  0.180928  0.255319  1.379201    Ts65Dn     Saline   \n",
      "J3295_5    0.297733  0.178258  0.246278  1.390946    Ts65Dn     Saline   \n",
      "J3295_6    0.290680  0.163461  0.240104  1.335982    Ts65Dn     Saline   \n",
      "J3295_7    0.307199  0.192350  0.269951  1.340743    Ts65Dn     Saline   \n",
      "J3295_8    0.277821  0.170415  0.261535  1.296917    Ts65Dn     Saline   \n",
      "J3295_9    0.277181  0.182646  0.237009  1.297315    Ts65Dn     Saline   \n",
      "J3295_10   0.294329  0.199856  0.308112  1.420244    Ts65Dn     Saline   \n",
      "J3295_11   0.318782  0.204660  0.328327  1.364823    Ts65Dn     Saline   \n",
      "J3295_12   0.325639  0.200415  0.293435  1.364478    Ts65Dn     Saline   \n",
      "J3295_13   0.321306  0.229193  0.355213  1.430825    Ts65Dn     Saline   \n",
      "J3295_14   0.335936  0.251317  0.365353  1.404031    Ts65Dn     Saline   \n",
      "J3295_15   0.335062  0.252995  0.365278  1.370999    Ts65Dn     Saline   \n",
      "\n",
      "          Behavior   class  \n",
      "MouseID                     \n",
      "309_1          C/S  c-CS-m  \n",
      "309_2          C/S  c-CS-m  \n",
      "309_3          C/S  c-CS-m  \n",
      "309_4          C/S  c-CS-m  \n",
      "309_5          C/S  c-CS-m  \n",
      "309_6          C/S  c-CS-m  \n",
      "309_7          C/S  c-CS-m  \n",
      "309_8          C/S  c-CS-m  \n",
      "309_9          C/S  c-CS-m  \n",
      "309_10         C/S  c-CS-m  \n",
      "309_11         C/S  c-CS-m  \n",
      "309_12         C/S  c-CS-m  \n",
      "309_13         C/S  c-CS-m  \n",
      "309_14         C/S  c-CS-m  \n",
      "309_15         C/S  c-CS-m  \n",
      "311_1          C/S  c-CS-m  \n",
      "311_2          C/S  c-CS-m  \n",
      "311_3          C/S  c-CS-m  \n",
      "311_4          C/S  c-CS-m  \n",
      "311_5          C/S  c-CS-m  \n",
      "311_6          C/S  c-CS-m  \n",
      "311_7          C/S  c-CS-m  \n",
      "311_8          C/S  c-CS-m  \n",
      "311_9          C/S  c-CS-m  \n",
      "311_10         C/S  c-CS-m  \n",
      "311_11         C/S  c-CS-m  \n",
      "311_12         C/S  c-CS-m  \n",
      "311_13         C/S  c-CS-m  \n",
      "311_14         C/S  c-CS-m  \n",
      "311_15         C/S  c-CS-m  \n",
      "...            ...     ...  \n",
      "J1291_1        S/C  t-SC-s  \n",
      "J1291_2        S/C  t-SC-s  \n",
      "J1291_3        S/C  t-SC-s  \n",
      "J1291_4        S/C  t-SC-s  \n",
      "J1291_5        S/C  t-SC-s  \n",
      "J1291_6        S/C  t-SC-s  \n",
      "J1291_7        S/C  t-SC-s  \n",
      "J1291_8        S/C  t-SC-s  \n",
      "J1291_9        S/C  t-SC-s  \n",
      "J1291_10       S/C  t-SC-s  \n",
      "J1291_11       S/C  t-SC-s  \n",
      "J1291_12       S/C  t-SC-s  \n",
      "J1291_13       S/C  t-SC-s  \n",
      "J1291_14       S/C  t-SC-s  \n",
      "J1291_15       S/C  t-SC-s  \n",
      "J3295_1        S/C  t-SC-s  \n",
      "J3295_2        S/C  t-SC-s  \n",
      "J3295_3        S/C  t-SC-s  \n",
      "J3295_4        S/C  t-SC-s  \n",
      "J3295_5        S/C  t-SC-s  \n",
      "J3295_6        S/C  t-SC-s  \n",
      "J3295_7        S/C  t-SC-s  \n",
      "J3295_8        S/C  t-SC-s  \n",
      "J3295_9        S/C  t-SC-s  \n",
      "J3295_10       S/C  t-SC-s  \n",
      "J3295_11       S/C  t-SC-s  \n",
      "J3295_12       S/C  t-SC-s  \n",
      "J3295_13       S/C  t-SC-s  \n",
      "J3295_14       S/C  t-SC-s  \n",
      "J3295_15       S/C  t-SC-s  \n",
      "\n",
      "[1080 rows x 81 columns]\n"
     ]
    }
   ],
   "source": [
    "# TODO\n",
    "# df1 = ...\n",
    "df1=df.fillna(df.mean())\n",
    "print(df1)"
   ]
  },
  {
   "cell_type": "markdown",
   "metadata": {},
   "source": [
    "## Binary Classification for Down's Syndrome\n",
    "\n",
    "We will first predict the binary class label in `df1['Genotype']` which indicates if the mouse has Down's syndrome or not.  Get the string values in `df1['Genotype'].values` and convert this to a numeric vector `y` with 0 or 1.  You may wish to use the `np.unique` command with the `return_inverse=True` option."
   ]
  },
  {
   "cell_type": "code",
   "execution_count": 36,
   "metadata": {
    "collapsed": false
   },
   "outputs": [
    {
     "name": "stdout",
     "output_type": "stream",
     "text": [
      "[ 1.  1.  1. ...,  0.  0.  0.]\n"
     ]
    }
   ],
   "source": [
    "# TODO\n",
    "# y = ...\n",
    "classify=np.unique(df1['Genotype'].values,return_inverse=True)\n",
    "y=np.zeros(df1['Genotype'].shape)\n",
    "for i in range(df1['Genotype'].shape[0]):\n",
    "\n",
    "    if df1['Genotype'][i]==classify[0][0]:\n",
    "        y[i]=1\n",
    "\n",
    "print(y)"
   ]
  },
  {
   "cell_type": "markdown",
   "metadata": {},
   "source": [
    "As predictors, get all but the last four columns of the dataframes.  Standardize the data matrix and call the standardized matrix `Xs`.  The predictors are the expression levels of the 77 genes. "
   ]
  },
  {
   "cell_type": "code",
   "execution_count": 37,
   "metadata": {
    "collapsed": false
   },
   "outputs": [
    {
     "name": "stdout",
     "output_type": "stream",
     "text": [
      "(1080, 77)\n"
     ]
    }
   ],
   "source": [
    "# TODO\n",
    "# Xs = ...\n",
    "Xs=preprocessing.scale(df1.ix[:,0:77].values)\n",
    "print(Xs.shape)"
   ]
  },
  {
   "cell_type": "markdown",
   "metadata": {},
   "source": [
    "Create a `LogisticRegression` object `logreg` and `fit` the training data."
   ]
  },
  {
   "cell_type": "code",
   "execution_count": 38,
   "metadata": {
    "collapsed": false
   },
   "outputs": [
    {
     "data": {
      "text/plain": [
       "LogisticRegression(C=1000.0, class_weight=None, dual=False,\n",
       "          fit_intercept=True, intercept_scaling=1, max_iter=100,\n",
       "          multi_class='ovr', n_jobs=1, penalty='l2', random_state=None,\n",
       "          solver='liblinear', tol=0.0001, verbose=0, warm_start=False)"
      ]
     },
     "execution_count": 38,
     "metadata": {},
     "output_type": "execute_result"
    }
   ],
   "source": [
    "# TODO\n",
    "logreg=linear_model.LogisticRegression(C=1e3)\n",
    "logreg.fit(Xs,y)"
   ]
  },
  {
   "cell_type": "markdown",
   "metadata": {},
   "source": [
    "Measure the accuracy of the classifer.  That is, use the `logreg.predict` function to predict labels `yhat` and measure the fraction of time that the predictions match the true labels.  Below, we will properly measure the accuracy on cross-validation data."
   ]
  },
  {
   "cell_type": "code",
   "execution_count": 39,
   "metadata": {
    "collapsed": false
   },
   "outputs": [
    {
     "name": "stdout",
     "output_type": "stream",
     "text": [
      "Accuracy on training data = 1.000000\n"
     ]
    }
   ],
   "source": [
    "# TODO\n",
    "yhat=logreg.predict(Xs)\n",
    "acc=np.mean(yhat==y)\n",
    "print(\"Accuracy on training data = %f\" %acc)"
   ]
  },
  {
   "cell_type": "markdown",
   "metadata": {},
   "source": [
    "## Interpreting the weight vector"
   ]
  },
  {
   "cell_type": "markdown",
   "metadata": {},
   "source": [
    "Create a stem plot of the coefficients, `W` in the logistic regression model.  You can get the coefficients from `logreg.coef_`, but you will need to reshape this to a 1D array.  "
   ]
  },
  {
   "cell_type": "code",
   "execution_count": 43,
   "metadata": {
    "collapsed": false
   },
   "outputs": [
    {
     "name": "stdout",
     "output_type": "stream",
     "text": [
      "(1, 77)\n"
     ]
    },
    {
     "data": {
      "image/png": "[encoded data removed]",
      "text/plain": [
       "<matplotlib.figure.Figure at 0x15d9fc60080>"
      ]
     },
     "metadata": {},
     "output_type": "display_data"
    }
   ],
   "source": [
    "# TODO\n",
    "print(logreg.coef_.shape)\n",
    "W=logreg.coef_.T\n",
    "x=np.linspace(start=0,stop=W.shape[0]-1,num=W.shape[0])\n",
    "markerline,stemlines,baseline=plt.stem(x,W,'-.')\n",
    "plt.setp(markerline,'markerfacecolor','b')\n",
    "plt.setp(baseline,'color','r')\n",
    "plt.xlabel('Predictor index')\n",
    "plt.ylabel('Coefficient')\n",
    "plt.show()"
   ]
  },
  {
   "cell_type": "markdown",
   "metadata": {
    "collapsed": false
   },
   "source": [
    "You should see that `W[i]` is very large for a few components `i`.  These are the genes that are likely to be most involved in Down's Syndrome.  Although, we do not discuss it in this class, there are ways to force the logistic regression to return a sparse vector `W`.  \n",
    "\n",
    "Find the names of the genes for two components `i` where the magnitude of `W[i]` is largest.  "
   ]
  },
  {
   "cell_type": "code",
   "execution_count": 44,
   "metadata": {
    "collapsed": false
   },
   "outputs": [
    {
     "name": "stdout",
     "output_type": "stream",
     "text": [
      "name of the genres where the magnitude of 'W[i]' is the largest is ITSN1_N\n"
     ]
    }
   ],
   "source": [
    "# TODO\n",
    "print(\"name of the genres where the magnitude of 'W[i]' is the largest is \"+df.columns.values[abs(W).argmax()])"
   ]
  },
  {
   "cell_type": "markdown",
   "metadata": {},
   "source": [
    "## Cross Validation\n",
    "\n",
    "The above meaured the accuracy on the training data.  It is more accurate to measure the accuracy on the test data.  Perform 10-fold cross validation and measure the average precision, recall and f1-score.  Note, that in performing the cross-validation, you will want to randomly permute the test and training sets using the `shuffle` option.  In this data set, all the samples from each class are bunched together, so shuffling is essential.  Print the mean precision, recall and f1-score and error rate across all the folds."
   ]
  },
  {
   "cell_type": "code",
   "execution_count": 45,
   "metadata": {
    "collapsed": false
   },
   "outputs": [
    {
     "name": "stdout",
     "output_type": "stream",
     "text": [
      "Precision = 0.9641, SE=0.0080\n",
      "Recall =    0.9620, SE=0.0087\n",
      "f1 =        0.9627, SE=0.0057\n",
      "Accuracy =  0.9602, SE=0.0066\n"
     ]
    }
   ],
   "source": [
    "# TODO\n",
    "from sklearn.model_selection import KFold\n",
    "from sklearn.metrics import precision_recall_fscore_support\n",
    "nfold=10\n",
    "kf=KFold(n_splits=nfold,shuffle=True)\n",
    "prec=[]\n",
    "rec=[]\n",
    "f1=[]\n",
    "acc=[]\n",
    "for train,test in kf.split(Xs):\n",
    "    Xtr=Xs[train,:]\n",
    "    ytr=y[train]\n",
    "    Xts=Xs[test,:]\n",
    "    yts=y[test]\n",
    "    \n",
    "    logreg.fit(Xtr,ytr)\n",
    "    yhat=logreg.predict(Xts)\n",
    "    preci,reci,f1i,_=precision_recall_fscore_support(yts,yhat,average='binary')\n",
    "    prec.append(preci)\n",
    "    rec.append(reci)\n",
    "    f1.append(f1i)\n",
    "    acci=np.mean(yhat==yts)\n",
    "    acc.append(acci)\n",
    "    \n",
    "precm=np.mean(prec)\n",
    "recm=np.mean(rec)\n",
    "f1m=np.mean(f1)\n",
    "accm=np.mean(acc)\n",
    "\n",
    "prec_se = np.std(prec)/np.sqrt(nfold-1)\n",
    "rec_se = np.std(rec)/np.sqrt(nfold-1)\n",
    "f1_se = np.std(f1)/np.sqrt(nfold-1)\n",
    "acc_se = np.std(acc)/np.sqrt(nfold-1)\n",
    "\n",
    "print('Precision = {0:.4f}, SE={1:.4f}'.format(precm,prec_se))\n",
    "print('Recall =    {0:.4f}, SE={1:.4f}'.format(recm, rec_se))\n",
    "print('f1 =        {0:.4f}, SE={1:.4f}'.format(f1m, f1_se))\n",
    "print('Accuracy =  {0:.4f}, SE={1:.4f}'.format(accm, acc_se))"
   ]
  },
  {
   "cell_type": "markdown",
   "metadata": {},
   "source": [
    "## Multi-Class Classification\n",
    "\n",
    "Now use the response variable in `df1['class']`.  This has 8 possible classes.  Use the `np.unique` funtion as before to convert this to a vector `y` with values 0 to 7."
   ]
  },
  {
   "cell_type": "code",
   "execution_count": 46,
   "metadata": {
    "collapsed": false
   },
   "outputs": [
    {
     "name": "stdout",
     "output_type": "stream",
     "text": [
      "[ 0.  0.  0. ...,  7.  7.  7.]\n"
     ]
    }
   ],
   "source": [
    "# TODO\n",
    "# y = ...\n",
    "multiClassify=np.unique(df1['class'].values,return_inverse=True)[0]\n",
    "y=np.zeros(df1['class'].shape)\n",
    "\n",
    "for i in range(df1['class'].shape[0]):\n",
    "    index=np.where(multiClassify==df1['class'][i])\n",
    "    y[i]=index[0]\n",
    "print(y)"
   ]
  },
  {
   "cell_type": "markdown",
   "metadata": {},
   "source": [
    "Fit a multi-class logistic model by creating a `LogisticRegression` object, `logreg` and then calling the `logreg.fit` method."
   ]
  },
  {
   "cell_type": "code",
   "execution_count": 47,
   "metadata": {
    "collapsed": false
   },
   "outputs": [
    {
     "data": {
      "text/plain": [
       "LogisticRegression(C=100000.0, class_weight=None, dual=False,\n",
       "          fit_intercept=True, intercept_scaling=1, max_iter=100,\n",
       "          multi_class='ovr', n_jobs=1, penalty='l2', random_state=None,\n",
       "          solver='liblinear', tol=0.0001, verbose=0, warm_start=False)"
      ]
     },
     "execution_count": 47,
     "metadata": {},
     "output_type": "execute_result"
    }
   ],
   "source": [
    "# TODO\n",
    "logreg=linear_model.LogisticRegression(C=1e5)\n",
    "logreg.fit(Xs,y)"
   ]
  },
  {
   "cell_type": "markdown",
   "metadata": {},
   "source": [
    "Measure the accuracy on the training data."
   ]
  },
  {
   "cell_type": "code",
   "execution_count": 48,
   "metadata": {
    "collapsed": false
   },
   "outputs": [
    {
     "name": "stdout",
     "output_type": "stream",
     "text": [
      "Accuracy on training data = 1.000000\n"
     ]
    },
    {
     "data": {
      "image/png": "[encoded data removed]",
      "text/plain": [
       "<matplotlib.figure.Figure at 0x15d9fc4deb8>"
      ]
     },
     "metadata": {},
     "output_type": "display_data"
    }
   ],
   "source": [
    "# TODO\n",
    "yhat=logreg.predict(Xs)\n",
    "acc=np.mean(yhat==y)\n",
    "print(\"Accuracy on training data = %f\" %acc)\n",
    "x=np.linspace(start=0,stop=Xs.shape[0]-1,num=Xs.shape[0])\n",
    "plt.plot(x,yhat)\n",
    "plt.scatter(x,y)\n",
    "plt.legend(['Predicted y value', 'Actual y value'],loc='upper left')\n",
    "plt.xlabel('Training data')\n",
    "plt.ylabel('Class value')\n",
    "plt.show()"
   ]
  },
  {
   "cell_type": "markdown",
   "metadata": {},
   "source": [
    "Now perform 10-fold cross validation, and measure the confusion matrix `C` on the test data in each fold. You can use the `confustion_matrix` method in the `sklearn` package.  Add the confusion matrix counts across all folds and then normalize the rows of the confusion matrix so that they sum to one.  Thus, each element `C[i,j]` will represent the fraction of samples where `yhat==j` given `ytrue==i`.  Print the confusion matrix.  You can use the command\n",
    "\n",
    "    print(np.array_str(C, precision=4, suppress_small=True))\n",
    "    \n",
    "to create a nicely formatted print.  Also print the overall mean and SE of the test error rate across the folds."
   ]
  },
  {
   "cell_type": "code",
   "execution_count": 49,
   "metadata": {
    "collapsed": false
   },
   "outputs": [
    {
     "name": "stdout",
     "output_type": "stream",
     "text": [
      "[[ 1.  0.  0.  0.  0.  0.  0.  0.]\n",
      " [ 0.  1.  0.  0.  0.  0.  0.  0.]\n",
      " [ 0.  0.  1.  0.  0.  0.  0.  0.]\n",
      " [ 0.  0.  0.  1.  0.  0.  0.  0.]\n",
      " [ 0.  0.  0.  0.  1.  0.  0.  0.]\n",
      " [ 0.  0.  0.  0.  0.  1.  0.  0.]\n",
      " [ 0.  0.  0.  0.  0.  0.  1.  0.]\n",
      " [ 0.  0.  0.  0.  0.  0.  0.  1.]]\n",
      "[[ 1.      0.      0.      0.      0.      0.      0.      0.    ]\n",
      " [ 0.      0.9286  0.      0.      0.0714  0.      0.      0.    ]\n",
      " [ 0.      0.      1.      0.      0.      0.      0.      0.    ]\n",
      " [ 0.0625  0.      0.      0.9375  0.      0.      0.      0.    ]\n",
      " [ 0.      0.      0.      0.      1.      0.      0.      0.    ]\n",
      " [ 0.      0.      0.      0.      0.      1.      0.      0.    ]\n",
      " [ 0.      0.      0.      0.      0.      0.      1.      0.    ]\n",
      " [ 0.      0.      0.      0.      0.      0.      0.      1.    ]]\n",
      "[[ 0.8571  0.      0.      0.      0.      0.1429  0.      0.    ]\n",
      " [ 0.      1.      0.      0.      0.      0.      0.      0.    ]\n",
      " [ 0.      0.      1.      0.      0.      0.      0.      0.    ]\n",
      " [ 0.      0.      0.      1.      0.      0.      0.      0.    ]\n",
      " [ 0.      0.      0.      0.      1.      0.      0.      0.    ]\n",
      " [ 0.      0.      0.      0.      0.      1.      0.      0.    ]\n",
      " [ 0.      0.      0.      0.      0.      0.      1.      0.    ]\n",
      " [ 0.      0.      0.      0.      0.      0.      0.      1.    ]]\n",
      "[[ 1.      0.      0.      0.      0.      0.      0.      0.    ]\n",
      " [ 0.0833  0.9167  0.      0.      0.      0.      0.      0.    ]\n",
      " [ 0.      0.      1.      0.      0.      0.      0.      0.    ]\n",
      " [ 0.      0.      0.      1.      0.      0.      0.      0.    ]\n",
      " [ 0.      0.      0.      0.      1.      0.      0.      0.    ]\n",
      " [ 0.      0.      0.      0.      0.      1.      0.      0.    ]\n",
      " [ 0.      0.      0.      0.      0.      0.      1.      0.    ]\n",
      " [ 0.      0.      0.      0.      0.      0.      0.      1.    ]]\n",
      "[[ 1.      0.      0.      0.      0.      0.      0.      0.    ]\n",
      " [ 0.0526  0.9474  0.      0.      0.      0.      0.      0.    ]\n",
      " [ 0.      0.      0.9091  0.0909  0.      0.      0.      0.    ]\n",
      " [ 0.      0.      0.      1.      0.      0.      0.      0.    ]\n",
      " [ 0.      0.      0.      0.      1.      0.      0.      0.    ]\n",
      " [ 0.      0.      0.      0.      0.      1.      0.      0.    ]\n",
      " [ 0.      0.      0.      0.      0.      0.      1.      0.    ]\n",
      " [ 0.      0.      0.      0.      0.      0.      0.      1.    ]]\n",
      "[[ 0.9375  0.0625  0.      0.      0.      0.      0.      0.    ]\n",
      " [ 0.      1.      0.      0.      0.      0.      0.      0.    ]\n",
      " [ 0.      0.0714  0.9286  0.      0.      0.      0.      0.    ]\n",
      " [ 0.      0.      0.      1.      0.      0.      0.      0.    ]\n",
      " [ 0.      0.      0.      0.      1.      0.      0.      0.    ]\n",
      " [ 0.      0.      0.      0.      0.      1.      0.      0.    ]\n",
      " [ 0.      0.      0.      0.      0.      0.      1.      0.    ]\n",
      " [ 0.      0.      0.      0.      0.      0.      0.      1.    ]]\n",
      "[[ 1.      0.      0.      0.      0.      0.      0.      0.    ]\n",
      " [ 0.      1.      0.      0.      0.      0.      0.      0.    ]\n",
      " [ 0.      0.      1.      0.      0.      0.      0.      0.    ]\n",
      " [ 0.      0.      0.      1.      0.      0.      0.      0.    ]\n",
      " [ 0.      0.      0.      0.      1.      0.      0.      0.    ]\n",
      " [ 0.      0.      0.      0.      0.      1.      0.      0.    ]\n",
      " [ 0.      0.      0.      0.1667  0.      0.      0.8333  0.    ]\n",
      " [ 0.      0.      0.      0.      0.      0.      0.      1.    ]]\n",
      "[[ 0.8889  0.1111  0.      0.      0.      0.      0.      0.    ]\n",
      " [ 0.      1.      0.      0.      0.      0.      0.      0.    ]\n",
      " [ 0.      0.      1.      0.      0.      0.      0.      0.    ]\n",
      " [ 0.      0.      0.      1.      0.      0.      0.      0.    ]\n",
      " [ 0.      0.      0.      0.      1.      0.      0.      0.    ]\n",
      " [ 0.      0.      0.      0.      0.      1.      0.      0.    ]\n",
      " [ 0.      0.      0.      0.      0.      0.      1.      0.    ]\n",
      " [ 0.      0.      0.      0.      0.      0.      0.      1.    ]]\n",
      "[[ 1.      0.      0.      0.      0.      0.      0.      0.    ]\n",
      " [ 0.0625  0.9375  0.      0.      0.      0.      0.      0.    ]\n",
      " [ 0.      0.      1.      0.      0.      0.      0.      0.    ]\n",
      " [ 0.      0.      0.      1.      0.      0.      0.      0.    ]\n",
      " [ 0.      0.      0.      0.      1.      0.      0.      0.    ]\n",
      " [ 0.      0.      0.      0.      0.      1.      0.      0.    ]\n",
      " [ 0.      0.      0.      0.      0.      0.      1.      0.    ]\n",
      " [ 0.      0.      0.      0.      0.      0.      0.      1.    ]]\n",
      "[[ 1.  0.  0.  0.  0.  0.  0.  0.]\n",
      " [ 0.  1.  0.  0.  0.  0.  0.  0.]\n",
      " [ 0.  0.  1.  0.  0.  0.  0.  0.]\n",
      " [ 0.  0.  0.  1.  0.  0.  0.  0.]\n",
      " [ 0.  0.  0.  0.  1.  0.  0.  0.]\n",
      " [ 0.  0.  0.  0.  0.  1.  0.  0.]\n",
      " [ 0.  0.  0.  0.  0.  0.  1.  0.]\n",
      " [ 0.  0.  0.  0.  0.  0.  0.  1.]]\n"
     ]
    }
   ],
   "source": [
    "from sklearn.metrics import confusion_matrix\n",
    "from sklearn.model_selection import KFold\n",
    "# TODO\n",
    "nfold=10\n",
    "kf=KFold(n_splits=nfold,shuffle=True)\n",
    "for train,test in kf.split(Xs):\n",
    "    Xtr=Xs[train,:]\n",
    "    ytr=y[train]\n",
    "    Xts=Xs[test,:]\n",
    "    yts=y[test]\n",
    "    logreg.fit(Xtr,ytr)\n",
    "    yhat=logreg.predict(Xts)\n",
    "    confusionMatrix=confusion_matrix(yts,yhat)\n",
    "    confusionMatrix=confusionMatrix.astype(float)\n",
    "    for rowIndex in range(confusionMatrix.shape[0]):\n",
    "        row=confusionMatrix[rowIndex]\n",
    "        newRow=row/float(np.sum(row))\n",
    "        confusionMatrix[rowIndex]=newRow\n",
    "    print(np.array_str(confusionMatrix, precision=4, suppress_small=True))"
   ]
  },
  {
   "cell_type": "markdown",
   "metadata": {},
   "source": [
    "Re-run the logistic regression on the entire training data and get the weight coefficients.  This should be a 8 x 77 matrix.  Create a stem plot of the first row of this matrix to see the coefficients on each of the genes."
   ]
  },
  {
   "cell_type": "code",
   "execution_count": 52,
   "metadata": {
    "collapsed": false,
    "scrolled": true
   },
   "outputs": [
    {
     "name": "stdout",
     "output_type": "stream",
     "text": [
      "(8, 77)\n"
     ]
    },
    {
     "data": {
      "image/png": "[encoded data removed]",
      "text/plain": [
       "<matplotlib.figure.Figure at 0x15d9d2e90f0>"
      ]
     },
     "metadata": {},
     "output_type": "display_data"
    }
   ],
   "source": [
    "# TODO\n",
    "logreg=linear_model.LogisticRegression(C=1e5)\n",
    "logreg.fit(Xs,y)\n",
    "\n",
    "W=logreg.coef_\n",
    "print(W.shape)\n",
    "\n",
    "x=np.linspace(start=0,stop=W.shape[1]-1,num=W.shape[1])\n",
    "markerline,stemlines,baseline=plt.stem(x,W[0],'-.')\n",
    "plt.setp(markerline,'markerfacecolor','b')\n",
    "plt.setp(baseline,'color','r')\n",
    "plt.show()"
   ]
  },
  {
   "cell_type": "markdown",
   "metadata": {
    "collapsed": true
   },
   "source": [
    "## L1-Regularization\n",
    "\n",
    "Graduate students only complete this section.\n",
    "\n",
    "In most genetic problems, only a limited number of the tested genes are likely influence any particular attribute.  Hence, we would expect that the weight coefficients in the logistic regression model should be sparse.  That is, they should be zero on any gene that plays no role in the particular attribute of interest.  Genetic analysis commonly imposes sparsity by adding an l1-penalty term.  Read the `sklearn` [documentation](http://scikit-learn.org/stable/modules/generated/sklearn.linear_model.LogisticRegression.html) on the `LogisticRegression` class to see how to set the l1-penalty and the inverse regularization strength, `C`.\n",
    "\n",
    "Using the model selection strategies from the [prostate cancer analysis demo](../model_sel/prostate.ipynb), use K-fold cross validation to select an appropriate inverse regularization strength.  \n",
    "* Use 10-fold cross validation \n",
    "* You should select around 20 values of `C`.  It is up to you find a good range.\n",
    "* Make appropriate plots and print out to display your results\n",
    "* How does the accuracy compare to the accuracy achieved without regularization."
   ]
  },
  {
   "cell_type": "code",
   "execution_count": 114,
   "metadata": {
    "collapsed": false
   },
   "outputs": [
    {
     "name": "stdout",
     "output_type": "stream",
     "text": [
      "Done\n",
      "Done\n",
      "Done\n",
      "Done\n",
      "Done\n",
      "Done\n",
      "Done\n",
      "Done\n",
      "Done\n",
      "Done\n",
      "Done\n",
      "Done\n",
      "Done\n",
      "Done\n",
      "Done\n",
      "Done\n",
      "Done\n",
      "Done\n",
      "Done\n",
      "Done\n",
      "Optimal alpha=1.274275\n"
     ]
    },
    {
     "data": {
      "image/png": "[encoded data removed]",
      "text/plain": [
       "<matplotlib.figure.Figure at 0x15d9d5e36a0>"
      ]
     },
     "metadata": {},
     "output_type": "display_data"
    }
   ],
   "source": [
    "# TODO\n",
    "from sklearn.model_selection import KFold\n",
    "# TODO\n",
    "nfold=10\n",
    "nalpha = 20\n",
    "alphas = np.logspace(-2,3,nalpha)\n",
    "kf=KFold(n_splits=nfold,shuffle=True)\n",
    "mse = np.zeros((nalpha,nfold))\n",
    "for ia, a in enumerate(alphas):\n",
    "    for ifold, ind in enumerate(kf.split(Xs)):\n",
    "        Itr,Its = ind\n",
    "        X_tr = Xs[Itr,:]\n",
    "        y_tr = y[Itr]\n",
    "        X_ts = Xs[Its,:]\n",
    "        y_ts = y[Its]\n",
    "        # Fit the model on the training data\n",
    "        logreg=linear_model.LogisticRegression(penalty='l1',C=a)\n",
    "        logreg.fit(X_tr,y_tr)\n",
    "        # Compute the prediction error on the test data\n",
    "        yts_pred = logreg.predict(X_ts)\n",
    "        mse[ia,ifold] = np.mean(y_ts==yts_pred)\n",
    "    print(\"Done\")\n",
    "mse_mean = np.mean(mse,axis=1)\n",
    "mse_std = np.std(mse,axis=1) / np.sqrt(nfold-1)\n",
    "\n",
    "imit=np.argmax(mse_mean)\n",
    "mse_tgt=mse_mean[imit]-mse_std[imit]\n",
    "alpha_min=alphas[imit]\n",
    "\n",
    "I=np.where(mse_mean>mse_tgt)[0]\n",
    "result=[]\n",
    "for element in I:\n",
    "    result.append(mse_mean[element])\n",
    "alpha_opt=alphas[I[np.argmax(result)]]\n",
    "print(\"Optimal alpha=%f\" %alpha_opt)\n",
    "#Plot the mean MSE and the mean MSE + 1 std dev\n",
    "plt.semilogx(alphas, mse_mean)\n",
    "plt.errorbar(alphas,mse_mean,yerr=mse_std)\n",
    "\n",
    "\n",
    "plt.legend(['Mean MSE', 'Mean MSE+1 SE'],loc='lower right')\n",
    "plt.xlabel('alpha')\n",
    "plt.ylabel('Test MSE')\n",
    "plt.grid()\n",
    "plt.show()\n",
    "\n"
   ]
  },
  {
   "cell_type": "markdown",
   "metadata": {},
   "source": [
    "For the optimal `C`, fit the model on the entire training data with l1 regularization. Find the resulting weight matrix, `W_l1`.  Plot the first row of this weight matrix and compare it to the first row of the weight matrix without the regularization.  You should see that, with l1-regularization, the weight matrix is much more sparse and hence the roles of particular genes are more clearly visible."
   ]
  },
  {
   "cell_type": "code",
   "execution_count": 115,
   "metadata": {
    "collapsed": false
   },
   "outputs": [
    {
     "name": "stdout",
     "output_type": "stream",
     "text": [
      "[ 0.         -0.40148949  0.19577452  0.          0.79107758  0.\n",
      "  0.74501372 -2.29486416 -2.96248872  0.          0.          3.43755689\n",
      "  2.3723169   0.05271887  0.49135893  0.         -3.57207385 -1.39295588\n",
      "  0.          0.48488373  0.          0.          0.          0.17119625\n",
      "  3.88442371  0.          0.33094968 -1.21507587  0.          0.\n",
      " -1.21290847  0.         -3.07198791  0.74381796  0.          0.          0.\n",
      "  0.          0.          0.45856599  0.         -0.37848744 -0.60160389\n",
      " -0.32823805 -1.52123718  0.          0.          0.          0.          0.\n",
      "  0.          0.20856166 -2.14800083  0.          0.17702254  2.05834723\n",
      " -0.15164433  0.          1.00555036  0.          0.46964439  0.24675899\n",
      " -0.34844335 -0.35627682 -0.42074231  0.          1.86509572  0.61620338\n",
      "  0.          0.          0.         -1.58771697  0.          0.\n",
      " -0.36250091 -0.14124601 -1.01690458]\n",
      "Accuracy is1.0\n",
      "[  2.10651149e+00  -9.56272465e+00   2.13971254e+00  -1.17024846e+00\n",
      "   1.91944559e+00   5.37455408e-01   3.63105547e+00  -1.52968836e+01\n",
      "  -1.21419400e+01   5.02384898e+00   6.88763838e-01   1.33321162e+01\n",
      "   9.81199293e+00   3.23317844e+00   4.40731284e+00   5.92885273e-01\n",
      "  -1.38686343e+01  -1.01887127e+01   3.48453761e-01   2.82826568e+00\n",
      "   1.36023464e+00   6.10925850e-03  -2.22519447e+00   2.38765451e+00\n",
      "   1.04958715e+01   1.20895772e+00   6.17572987e+00  -6.41048872e+00\n",
      "  -2.14387435e+00  -2.22873460e+00  -5.16109671e+00   2.57735628e-01\n",
      "  -1.49227026e+01   6.83315308e+00  -7.81642223e+00  -2.58401917e+00\n",
      "  -5.46062483e-01  -7.41163307e-01   1.08952247e+00   3.70350709e+00\n",
      "   3.28896019e+00  -4.15664468e+00  -6.42503516e+00  -6.68070118e-01\n",
      "  -4.89777362e+00   1.14491968e+00   4.18354885e+00   1.30970887e+00\n",
      "  -3.76293412e+00  -7.19015346e-02   7.99330033e+00   2.43577391e+00\n",
      "  -8.48594072e+00   1.93528247e+00   1.87057926e+00   9.16889786e+00\n",
      "  -4.54515437e+00  -1.76355774e+00   5.45977873e+00  -4.04480731e-01\n",
      "   2.74018068e+00   2.79329318e+00  -3.83008301e+00  -1.92870974e+00\n",
      "  -3.72280475e+00   7.39658023e-01   7.89924149e+00   4.96483615e+00\n",
      "   1.30398839e+00  -2.02172070e+00   2.36927253e+00  -7.66732112e+00\n",
      "  -1.92051042e+00  -2.26867545e+00  -1.44698043e+00  -3.23263421e+00\n",
      "  -8.31253578e+00]\n",
      "0.0\n"
     ]
    },
    {
     "data": {
      "image/png": "[encoded data removed]",
      "text/plain": [
       "<matplotlib.figure.Figure at 0x15da1147d68>"
      ]
     },
     "metadata": {},
     "output_type": "display_data"
    }
   ],
   "source": [
    "# TODO\n",
    "entireLogReg=linear_model.LogisticRegression(penalty='l1',C=alpha_opt)\n",
    "entireLogReg.fit(Xs,y)\n",
    "yhat=entireLogReg.predict(Xs)\n",
    "W_l1=entireLogReg.coef_\n",
    "print(W_l1[0])\n",
    "acc=np.mean(yhat==y)\n",
    "print(\"Accuracy is\"+str(acc))\n",
    "entireLogRegWithoutRegular=linear_model.LogisticRegression(penalty='l1',C=1e5)\n",
    "yhatWithoutRegular=entireLogRegWithoutRegular.fit(Xs,y)\n",
    "W_l1WithoutRegluar=entireLogRegWithoutRegular.coef_\n",
    "print(W_l1WithoutRegluar[0])\n",
    "accWithoutRegular=np.mean(yhatWithoutRegular==y)\n",
    "print(accWithoutRegular)\n",
    "x=np.linspace(0,W_l1[0].shape[0]-1,W_l1[0].shape[0])\n",
    "plt.subplot(211)\n",
    "plt.stem(x,W_l1[0])\n",
    "plt.subplot(212)\n",
    "plt.stem(x,W_l1WithoutRegluar[0])\n",
    "plt.show()"
   ]
  },
  {
   "cell_type": "code",
   "execution_count": 5,
   "metadata": {
    "collapsed": false
   },
   "outputs": [
    {
     "data": {
      "image/png": "[encoded data removed]",
      "text/plain": [
       "<matplotlib.figure.Figure at 0x1b9e4a51400>"
      ]
     },
     "metadata": {},
     "output_type": "display_data"
    }
   ],
   "source": [
    "import numpy as np\n",
    "import matplotlib\n",
    "import matplotlib.pyplot as plt\n",
    "import pandas as pd\n",
    "from sklearn import datasets, linear_model, preprocessing\n",
    "y=np.array([0,1,0,1,1])\n",
    "Iben=(y==0)\n",
    "Imal=(y==1)\n",
    "xnames=['Income','Num websites']\n",
    "x=np.array([[30,0],[50,1],[70,1],[80,2],[100,1]])\n",
    "plt.plot(x[Imal,0],x[Imal,1],'r.')\n",
    "plt.plot(x[Iben,0],x[Iben,1],'g.')\n",
    "plt.ylim(-0.5,2.5)\n",
    "plt.xlim(25,105)\n",
    "plt.xlabel(xnames[0], fontsize=16)\n",
    "plt.ylabel(xnames[1], fontsize=16)\n",
    "plt.legend(['Donate','No Donate'],loc='lower right')\n",
    "plt.show()\n"
   ]
  },
  {
   "cell_type": "code",
   "execution_count": 3,
   "metadata": {
    "collapsed": false
   },
   "outputs": [
    {
     "name": "stdout",
     "output_type": "stream",
     "text": [
      "W=[[ 0.01205982  7.2104196 ]]\n",
      "B=[-7.39120847]\n",
      "Y predict=[0 1 1 1 1]\n",
      "Z predict=[[-7.02941381]\n",
      " [ 0.42220223]\n",
      " [ 0.66339867]\n",
      " [ 7.99441649]\n",
      " [ 1.02519333]]\n"
     ]
    }
   ],
   "source": [
    "import numpy as np\n",
    "import matplotlib\n",
    "import matplotlib.pyplot as plt\n",
    "import pandas as pd\n",
    "from sklearn import datasets, linear_model, preprocessing\n",
    "y=np.array([0,1,0,1,1])\n",
    "Iben=(y==0)\n",
    "Imal=(y==1)\n",
    "xnames=['Income','Num websites']\n",
    "x=np.array([[30,0],[50,1],[70,1],[80,2],[100,1]])\n",
    "logreg=linear_model.LogisticRegression(C=1e5)\n",
    "logreg.fit(x,y)\n",
    "print('W='+str(logreg.coef_))\n",
    "print('B='+str(logreg.intercept_))\n",
    "y_pred=logreg.predict(x)\n",
    "print('Y predict='+str(y_pred))\n",
    "z=np.dot(x,logreg.coef_.T)+logreg.intercept_\n",
    "print('Z predict='+str(z))"
   ]
  },
  {
   "cell_type": "code",
   "execution_count": 4,
   "metadata": {
    "collapsed": false
   },
   "outputs": [
    {
     "name": "stdout",
     "output_type": "stream",
     "text": [
      "[0 1 1 1 1]\n"
     ]
    }
   ],
   "source": [
    "import numpy as np\n",
    "def gen_ran(X,w,b):\n",
    "\tz=np.dot(X,w)+b\n",
    "\ty=np.zeros(X.shape[0])\n",
    "\tfor i in range(y.shape[0]):\n",
    "\t\tif z[i]>0:\n",
    "\t\t\ty[i]=1\n",
    "\treturn y.astype(int)\n",
    "y=gen_ran(np.array([[30,0],[50,1],[70,1],[80,2],[100,1]]),np.array([0.012,7.210]),-7.391)\n",
    "print(y)"
   ]
  },
  {
   "cell_type": "code",
   "execution_count": null,
   "metadata": {
    "collapsed": true
   },
   "outputs": [],
   "source": []
  }
 ],
 "metadata": {
  "anaconda-cloud": {},
  "kernelspec": {
   "display_name": "Python [conda root]",
   "language": "python",
   "name": "conda-root-py"
  },
  "language_info": {
   "codemirror_mode": {
    "name": "ipython",
    "version": 3
   },
   "file_extension": ".py",
   "mimetype": "text/x-python",
   "name": "python",
   "nbconvert_exporter": "python",
   "pygments_lexer": "ipython3",
   "version": "3.5.2"
  }
 },
 "nbformat": 4,
 "nbformat_minor": 1
}
